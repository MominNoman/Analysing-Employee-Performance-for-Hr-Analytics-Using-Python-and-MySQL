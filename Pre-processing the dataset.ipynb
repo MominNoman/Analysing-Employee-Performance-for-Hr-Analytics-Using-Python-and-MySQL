{
 "cells": [
  {
   "cell_type": "markdown",
   "id": "d61c5d2e",
   "metadata": {},
   "source": [
    "# Pre-processing the dataset:\n",
    "\n",
    "Handling null values, deletion or transformation of irrelevant values, data type transformation, removing duplicates and data validations."
   ]
  },
  {
   "cell_type": "markdown",
   "id": "915f4aa0",
   "metadata": {},
   "source": [
    "### Importing Libraries and Datasets"
   ]
  },
  {
   "cell_type": "code",
   "execution_count": 3,
   "id": "53de583b",
   "metadata": {},
   "outputs": [],
   "source": [
    "import pandas as pd\n",
    "import numpy as np"
   ]
  },
  {
   "cell_type": "code",
   "execution_count": 4,
   "id": "2828011e",
   "metadata": {},
   "outputs": [
    {
     "data": {
      "text/html": [
       "<div>\n",
       "<style scoped>\n",
       "    .dataframe tbody tr th:only-of-type {\n",
       "        vertical-align: middle;\n",
       "    }\n",
       "\n",
       "    .dataframe tbody tr th {\n",
       "        vertical-align: top;\n",
       "    }\n",
       "\n",
       "    .dataframe thead th {\n",
       "        text-align: right;\n",
       "    }\n",
       "</style>\n",
       "<table border=\"1\" class=\"dataframe\">\n",
       "  <thead>\n",
       "    <tr style=\"text-align: right;\">\n",
       "      <th></th>\n",
       "      <th>employee_id</th>\n",
       "      <th>department</th>\n",
       "      <th>region</th>\n",
       "      <th>education</th>\n",
       "      <th>gender</th>\n",
       "      <th>recruitment_channel</th>\n",
       "      <th>no_of_trainings</th>\n",
       "      <th>age</th>\n",
       "      <th>previous_year_rating</th>\n",
       "      <th>length_of_service</th>\n",
       "      <th>KPIs_met_more_than_80</th>\n",
       "      <th>awards_won</th>\n",
       "      <th>avg_training_score</th>\n",
       "    </tr>\n",
       "  </thead>\n",
       "  <tbody>\n",
       "    <tr>\n",
       "      <th>0</th>\n",
       "      <td>8724</td>\n",
       "      <td>Technology</td>\n",
       "      <td>region_26</td>\n",
       "      <td>Bachelors</td>\n",
       "      <td>m</td>\n",
       "      <td>sourcing</td>\n",
       "      <td>1</td>\n",
       "      <td>24</td>\n",
       "      <td>NaN</td>\n",
       "      <td>1</td>\n",
       "      <td>1</td>\n",
       "      <td>0</td>\n",
       "      <td>77</td>\n",
       "    </tr>\n",
       "    <tr>\n",
       "      <th>1</th>\n",
       "      <td>74430</td>\n",
       "      <td>HR</td>\n",
       "      <td>region_4</td>\n",
       "      <td>Bachelors</td>\n",
       "      <td>f</td>\n",
       "      <td>other</td>\n",
       "      <td>1</td>\n",
       "      <td>31</td>\n",
       "      <td>3.0</td>\n",
       "      <td>5</td>\n",
       "      <td>0</td>\n",
       "      <td>0</td>\n",
       "      <td>51</td>\n",
       "    </tr>\n",
       "    <tr>\n",
       "      <th>2</th>\n",
       "      <td>72255</td>\n",
       "      <td>Sales &amp; Marketing</td>\n",
       "      <td>region_13</td>\n",
       "      <td>Bachelors</td>\n",
       "      <td>m</td>\n",
       "      <td>other</td>\n",
       "      <td>1</td>\n",
       "      <td>31</td>\n",
       "      <td>1.0</td>\n",
       "      <td>4</td>\n",
       "      <td>0</td>\n",
       "      <td>0</td>\n",
       "      <td>47</td>\n",
       "    </tr>\n",
       "    <tr>\n",
       "      <th>3</th>\n",
       "      <td>38562</td>\n",
       "      <td>Procurement</td>\n",
       "      <td>region_2</td>\n",
       "      <td>Bachelors</td>\n",
       "      <td>f</td>\n",
       "      <td>other</td>\n",
       "      <td>3</td>\n",
       "      <td>31</td>\n",
       "      <td>2.0</td>\n",
       "      <td>9</td>\n",
       "      <td>0</td>\n",
       "      <td>0</td>\n",
       "      <td>65</td>\n",
       "    </tr>\n",
       "    <tr>\n",
       "      <th>4</th>\n",
       "      <td>64486</td>\n",
       "      <td>Finance</td>\n",
       "      <td>region_29</td>\n",
       "      <td>Bachelors</td>\n",
       "      <td>m</td>\n",
       "      <td>sourcing</td>\n",
       "      <td>1</td>\n",
       "      <td>30</td>\n",
       "      <td>4.0</td>\n",
       "      <td>7</td>\n",
       "      <td>0</td>\n",
       "      <td>0</td>\n",
       "      <td>61</td>\n",
       "    </tr>\n",
       "    <tr>\n",
       "      <th>...</th>\n",
       "      <td>...</td>\n",
       "      <td>...</td>\n",
       "      <td>...</td>\n",
       "      <td>...</td>\n",
       "      <td>...</td>\n",
       "      <td>...</td>\n",
       "      <td>...</td>\n",
       "      <td>...</td>\n",
       "      <td>...</td>\n",
       "      <td>...</td>\n",
       "      <td>...</td>\n",
       "      <td>...</td>\n",
       "      <td>...</td>\n",
       "    </tr>\n",
       "    <tr>\n",
       "      <th>17412</th>\n",
       "      <td>64573</td>\n",
       "      <td>Technology</td>\n",
       "      <td>region_7</td>\n",
       "      <td>Bachelors</td>\n",
       "      <td>f</td>\n",
       "      <td>referred</td>\n",
       "      <td>2</td>\n",
       "      <td>30</td>\n",
       "      <td>5.0</td>\n",
       "      <td>6</td>\n",
       "      <td>1</td>\n",
       "      <td>0</td>\n",
       "      <td>81</td>\n",
       "    </tr>\n",
       "    <tr>\n",
       "      <th>17413</th>\n",
       "      <td>49584</td>\n",
       "      <td>HR</td>\n",
       "      <td>region_7</td>\n",
       "      <td>Bachelors</td>\n",
       "      <td>m</td>\n",
       "      <td>other</td>\n",
       "      <td>1</td>\n",
       "      <td>33</td>\n",
       "      <td>1.0</td>\n",
       "      <td>9</td>\n",
       "      <td>0</td>\n",
       "      <td>0</td>\n",
       "      <td>51</td>\n",
       "    </tr>\n",
       "    <tr>\n",
       "      <th>17414</th>\n",
       "      <td>49584</td>\n",
       "      <td>HR</td>\n",
       "      <td>region_7</td>\n",
       "      <td>Bachelors</td>\n",
       "      <td>m</td>\n",
       "      <td>other</td>\n",
       "      <td>1</td>\n",
       "      <td>33</td>\n",
       "      <td>1.0</td>\n",
       "      <td>9</td>\n",
       "      <td>0</td>\n",
       "      <td>0</td>\n",
       "      <td>51</td>\n",
       "    </tr>\n",
       "    <tr>\n",
       "      <th>17415</th>\n",
       "      <td>49584</td>\n",
       "      <td>HR</td>\n",
       "      <td>region_7</td>\n",
       "      <td>Bachelors</td>\n",
       "      <td>m</td>\n",
       "      <td>other</td>\n",
       "      <td>1</td>\n",
       "      <td>33</td>\n",
       "      <td>1.0</td>\n",
       "      <td>9</td>\n",
       "      <td>0</td>\n",
       "      <td>0</td>\n",
       "      <td>51</td>\n",
       "    </tr>\n",
       "    <tr>\n",
       "      <th>17416</th>\n",
       "      <td>64573</td>\n",
       "      <td>HR</td>\n",
       "      <td>region_7</td>\n",
       "      <td>Bachelors</td>\n",
       "      <td>f</td>\n",
       "      <td>referred</td>\n",
       "      <td>1</td>\n",
       "      <td>35</td>\n",
       "      <td>5.0</td>\n",
       "      <td>4</td>\n",
       "      <td>1</td>\n",
       "      <td>0</td>\n",
       "      <td>81</td>\n",
       "    </tr>\n",
       "  </tbody>\n",
       "</table>\n",
       "<p>17417 rows × 13 columns</p>\n",
       "</div>"
      ],
      "text/plain": [
       "       employee_id         department     region  education gender  \\\n",
       "0             8724         Technology  region_26  Bachelors      m   \n",
       "1            74430                 HR   region_4  Bachelors      f   \n",
       "2            72255  Sales & Marketing  region_13  Bachelors      m   \n",
       "3            38562        Procurement   region_2  Bachelors      f   \n",
       "4            64486            Finance  region_29  Bachelors      m   \n",
       "...            ...                ...        ...        ...    ...   \n",
       "17412        64573         Technology   region_7  Bachelors      f   \n",
       "17413        49584                 HR   region_7  Bachelors      m   \n",
       "17414        49584                 HR   region_7  Bachelors      m   \n",
       "17415        49584                 HR   region_7  Bachelors      m   \n",
       "17416        64573                 HR   region_7  Bachelors      f   \n",
       "\n",
       "      recruitment_channel  no_of_trainings  age  previous_year_rating  \\\n",
       "0                sourcing                1   24                   NaN   \n",
       "1                   other                1   31                   3.0   \n",
       "2                   other                1   31                   1.0   \n",
       "3                   other                3   31                   2.0   \n",
       "4                sourcing                1   30                   4.0   \n",
       "...                   ...              ...  ...                   ...   \n",
       "17412            referred                2   30                   5.0   \n",
       "17413               other                1   33                   1.0   \n",
       "17414               other                1   33                   1.0   \n",
       "17415               other                1   33                   1.0   \n",
       "17416            referred                1   35                   5.0   \n",
       "\n",
       "       length_of_service  KPIs_met_more_than_80  awards_won  \\\n",
       "0                      1                      1           0   \n",
       "1                      5                      0           0   \n",
       "2                      4                      0           0   \n",
       "3                      9                      0           0   \n",
       "4                      7                      0           0   \n",
       "...                  ...                    ...         ...   \n",
       "17412                  6                      1           0   \n",
       "17413                  9                      0           0   \n",
       "17414                  9                      0           0   \n",
       "17415                  9                      0           0   \n",
       "17416                  4                      1           0   \n",
       "\n",
       "       avg_training_score  \n",
       "0                      77  \n",
       "1                      51  \n",
       "2                      47  \n",
       "3                      65  \n",
       "4                      61  \n",
       "...                   ...  \n",
       "17412                  81  \n",
       "17413                  51  \n",
       "17414                  51  \n",
       "17415                  51  \n",
       "17416                  81  \n",
       "\n",
       "[17417 rows x 13 columns]"
      ]
     },
     "execution_count": 4,
     "metadata": {},
     "output_type": "execute_result"
    }
   ],
   "source": [
    "data = pd.read_csv('Uncleaned_employees_final_dataset.csv')\n",
    "data"
   ]
  },
  {
   "cell_type": "markdown",
   "id": "35210ce3",
   "metadata": {},
   "source": [
    "## Removing duplicate rows"
   ]
  },
  {
   "cell_type": "code",
   "execution_count": 5,
   "id": "da95b6b0",
   "metadata": {},
   "outputs": [
    {
     "data": {
      "text/plain": [
       "2"
      ]
     },
     "execution_count": 5,
     "metadata": {},
     "output_type": "execute_result"
    }
   ],
   "source": [
    "data.duplicated().sum()"
   ]
  },
  {
   "cell_type": "code",
   "execution_count": 6,
   "id": "1beb6f98",
   "metadata": {},
   "outputs": [],
   "source": [
    "data.drop_duplicates(inplace = True)"
   ]
  },
  {
   "cell_type": "code",
   "execution_count": 7,
   "id": "9edf9d32",
   "metadata": {},
   "outputs": [
    {
     "data": {
      "text/plain": [
       "0"
      ]
     },
     "execution_count": 7,
     "metadata": {},
     "output_type": "execute_result"
    }
   ],
   "source": [
    "data.duplicated().sum()"
   ]
  },
  {
   "cell_type": "markdown",
   "id": "a8069274",
   "metadata": {},
   "source": [
    "## Checking the datatype of the columns"
   ]
  },
  {
   "cell_type": "code",
   "execution_count": 8,
   "id": "dfeee8cc",
   "metadata": {},
   "outputs": [
    {
     "data": {
      "text/plain": [
       "employee_id                int64\n",
       "department                object\n",
       "region                    object\n",
       "education                 object\n",
       "gender                    object\n",
       "recruitment_channel       object\n",
       "no_of_trainings            int64\n",
       "age                        int64\n",
       "previous_year_rating     float64\n",
       "length_of_service          int64\n",
       "KPIs_met_more_than_80      int64\n",
       "awards_won                 int64\n",
       "avg_training_score         int64\n",
       "dtype: object"
      ]
     },
     "execution_count": 8,
     "metadata": {},
     "output_type": "execute_result"
    }
   ],
   "source": [
    "data.dtypes"
   ]
  },
  {
   "cell_type": "markdown",
   "id": "086ce769",
   "metadata": {},
   "source": [
    "## Removing rows for which numeric columns are having irrelevant data type values"
   ]
  },
  {
   "cell_type": "code",
   "execution_count": 9,
   "id": "8f1849fe",
   "metadata": {},
   "outputs": [],
   "source": [
    "data.iloc[:,[0,6,7,8,9,10,11,12]] = data.iloc[:,[0,6,7,8,9,10,11,12]].apply(pd.to_numeric, errors='coerce')"
   ]
  },
  {
   "cell_type": "code",
   "execution_count": 10,
   "id": "c94f7767",
   "metadata": {},
   "outputs": [
    {
     "data": {
      "text/html": [
       "<div>\n",
       "<style scoped>\n",
       "    .dataframe tbody tr th:only-of-type {\n",
       "        vertical-align: middle;\n",
       "    }\n",
       "\n",
       "    .dataframe tbody tr th {\n",
       "        vertical-align: top;\n",
       "    }\n",
       "\n",
       "    .dataframe thead th {\n",
       "        text-align: right;\n",
       "    }\n",
       "</style>\n",
       "<table border=\"1\" class=\"dataframe\">\n",
       "  <thead>\n",
       "    <tr style=\"text-align: right;\">\n",
       "      <th></th>\n",
       "      <th>employee_id</th>\n",
       "      <th>department</th>\n",
       "      <th>region</th>\n",
       "      <th>education</th>\n",
       "      <th>gender</th>\n",
       "      <th>recruitment_channel</th>\n",
       "      <th>no_of_trainings</th>\n",
       "      <th>age</th>\n",
       "      <th>previous_year_rating</th>\n",
       "      <th>length_of_service</th>\n",
       "      <th>KPIs_met_more_than_80</th>\n",
       "      <th>awards_won</th>\n",
       "      <th>avg_training_score</th>\n",
       "    </tr>\n",
       "  </thead>\n",
       "  <tbody>\n",
       "    <tr>\n",
       "      <th>0</th>\n",
       "      <td>8724</td>\n",
       "      <td>Technology</td>\n",
       "      <td>region_26</td>\n",
       "      <td>Bachelors</td>\n",
       "      <td>m</td>\n",
       "      <td>sourcing</td>\n",
       "      <td>1</td>\n",
       "      <td>24</td>\n",
       "      <td>NaN</td>\n",
       "      <td>1</td>\n",
       "      <td>1</td>\n",
       "      <td>0</td>\n",
       "      <td>77</td>\n",
       "    </tr>\n",
       "    <tr>\n",
       "      <th>1</th>\n",
       "      <td>74430</td>\n",
       "      <td>HR</td>\n",
       "      <td>region_4</td>\n",
       "      <td>Bachelors</td>\n",
       "      <td>f</td>\n",
       "      <td>other</td>\n",
       "      <td>1</td>\n",
       "      <td>31</td>\n",
       "      <td>3.0</td>\n",
       "      <td>5</td>\n",
       "      <td>0</td>\n",
       "      <td>0</td>\n",
       "      <td>51</td>\n",
       "    </tr>\n",
       "    <tr>\n",
       "      <th>2</th>\n",
       "      <td>72255</td>\n",
       "      <td>Sales &amp; Marketing</td>\n",
       "      <td>region_13</td>\n",
       "      <td>Bachelors</td>\n",
       "      <td>m</td>\n",
       "      <td>other</td>\n",
       "      <td>1</td>\n",
       "      <td>31</td>\n",
       "      <td>1.0</td>\n",
       "      <td>4</td>\n",
       "      <td>0</td>\n",
       "      <td>0</td>\n",
       "      <td>47</td>\n",
       "    </tr>\n",
       "    <tr>\n",
       "      <th>3</th>\n",
       "      <td>38562</td>\n",
       "      <td>Procurement</td>\n",
       "      <td>region_2</td>\n",
       "      <td>Bachelors</td>\n",
       "      <td>f</td>\n",
       "      <td>other</td>\n",
       "      <td>3</td>\n",
       "      <td>31</td>\n",
       "      <td>2.0</td>\n",
       "      <td>9</td>\n",
       "      <td>0</td>\n",
       "      <td>0</td>\n",
       "      <td>65</td>\n",
       "    </tr>\n",
       "    <tr>\n",
       "      <th>4</th>\n",
       "      <td>64486</td>\n",
       "      <td>Finance</td>\n",
       "      <td>region_29</td>\n",
       "      <td>Bachelors</td>\n",
       "      <td>m</td>\n",
       "      <td>sourcing</td>\n",
       "      <td>1</td>\n",
       "      <td>30</td>\n",
       "      <td>4.0</td>\n",
       "      <td>7</td>\n",
       "      <td>0</td>\n",
       "      <td>0</td>\n",
       "      <td>61</td>\n",
       "    </tr>\n",
       "  </tbody>\n",
       "</table>\n",
       "</div>"
      ],
      "text/plain": [
       "   employee_id         department     region  education gender  \\\n",
       "0         8724         Technology  region_26  Bachelors      m   \n",
       "1        74430                 HR   region_4  Bachelors      f   \n",
       "2        72255  Sales & Marketing  region_13  Bachelors      m   \n",
       "3        38562        Procurement   region_2  Bachelors      f   \n",
       "4        64486            Finance  region_29  Bachelors      m   \n",
       "\n",
       "  recruitment_channel  no_of_trainings  age  previous_year_rating  \\\n",
       "0            sourcing                1   24                   NaN   \n",
       "1               other                1   31                   3.0   \n",
       "2               other                1   31                   1.0   \n",
       "3               other                3   31                   2.0   \n",
       "4            sourcing                1   30                   4.0   \n",
       "\n",
       "   length_of_service  KPIs_met_more_than_80  awards_won  avg_training_score  \n",
       "0                  1                      1           0                  77  \n",
       "1                  5                      0           0                  51  \n",
       "2                  4                      0           0                  47  \n",
       "3                  9                      0           0                  65  \n",
       "4                  7                      0           0                  61  "
      ]
     },
     "execution_count": 10,
     "metadata": {},
     "output_type": "execute_result"
    }
   ],
   "source": [
    "data.head()"
   ]
  },
  {
   "cell_type": "markdown",
   "id": "1c54be46",
   "metadata": {},
   "source": [
    "## Droping the null Values"
   ]
  },
  {
   "cell_type": "code",
   "execution_count": 12,
   "id": "188613ba",
   "metadata": {},
   "outputs": [
    {
     "data": {
      "text/plain": [
       "employee_id                 0\n",
       "department                  0\n",
       "region                      0\n",
       "education                 771\n",
       "gender                      0\n",
       "recruitment_channel         0\n",
       "no_of_trainings             0\n",
       "age                         0\n",
       "previous_year_rating     1363\n",
       "length_of_service           0\n",
       "KPIs_met_more_than_80       0\n",
       "awards_won                  0\n",
       "avg_training_score          0\n",
       "dtype: int64"
      ]
     },
     "execution_count": 12,
     "metadata": {},
     "output_type": "execute_result"
    }
   ],
   "source": [
    "data.isnull().sum()"
   ]
  },
  {
   "cell_type": "code",
   "execution_count": 13,
   "id": "9dd5192f",
   "metadata": {},
   "outputs": [],
   "source": [
    "data = data.dropna()"
   ]
  },
  {
   "cell_type": "code",
   "execution_count": 14,
   "id": "e7b053aa",
   "metadata": {},
   "outputs": [
    {
     "data": {
      "text/plain": [
       "employee_id              0\n",
       "department               0\n",
       "region                   0\n",
       "education                0\n",
       "gender                   0\n",
       "recruitment_channel      0\n",
       "no_of_trainings          0\n",
       "age                      0\n",
       "previous_year_rating     0\n",
       "length_of_service        0\n",
       "KPIs_met_more_than_80    0\n",
       "awards_won               0\n",
       "avg_training_score       0\n",
       "dtype: int64"
      ]
     },
     "execution_count": 14,
     "metadata": {},
     "output_type": "execute_result"
    }
   ],
   "source": [
    "data.isnull().sum()"
   ]
  },
  {
   "cell_type": "markdown",
   "id": "7b86c7a8",
   "metadata": {},
   "source": [
    "### Remove irrelevant values from each column if any. \n",
    "Validation of all values for a column\n",
    "Check for any inconsistencies or discrepancies in data types, units, or formats.\n",
    "Feel free to add more validation checks which you might feel necessary for the dataset’s integrity"
   ]
  },
  {
   "cell_type": "code",
   "execution_count": 15,
   "id": "801c5900",
   "metadata": {},
   "outputs": [
    {
     "data": {
      "text/plain": [
       "Index(['employee_id', 'department', 'region', 'education', 'gender',\n",
       "       'recruitment_channel', 'no_of_trainings', 'age', 'previous_year_rating',\n",
       "       'length_of_service', 'KPIs_met_more_than_80', 'awards_won',\n",
       "       'avg_training_score'],\n",
       "      dtype='object')"
      ]
     },
     "execution_count": 15,
     "metadata": {},
     "output_type": "execute_result"
    }
   ],
   "source": [
    "data.columns"
   ]
  },
  {
   "cell_type": "code",
   "execution_count": 16,
   "id": "07df2198",
   "metadata": {},
   "outputs": [
    {
     "name": "stderr",
     "output_type": "stream",
     "text": [
      "C:\\Users\\Its Nomy\\AppData\\Local\\Temp\\ipykernel_11928\\1580165828.py:1: SettingWithCopyWarning: \n",
      "A value is trying to be set on a copy of a slice from a DataFrame.\n",
      "Try using .loc[row_indexer,col_indexer] = value instead\n",
      "\n",
      "See the caveats in the documentation: https://pandas.pydata.org/pandas-docs/stable/user_guide/indexing.html#returning-a-view-versus-a-copy\n",
      "  data['previous_year_rating'] = data['previous_year_rating'].astype(int)\n"
     ]
    }
   ],
   "source": [
    "data['previous_year_rating'] = data['previous_year_rating'].astype(int)"
   ]
  },
  {
   "cell_type": "code",
   "execution_count": 17,
   "id": "205fb87b",
   "metadata": {},
   "outputs": [
    {
     "data": {
      "text/html": [
       "<div>\n",
       "<style scoped>\n",
       "    .dataframe tbody tr th:only-of-type {\n",
       "        vertical-align: middle;\n",
       "    }\n",
       "\n",
       "    .dataframe tbody tr th {\n",
       "        vertical-align: top;\n",
       "    }\n",
       "\n",
       "    .dataframe thead th {\n",
       "        text-align: right;\n",
       "    }\n",
       "</style>\n",
       "<table border=\"1\" class=\"dataframe\">\n",
       "  <thead>\n",
       "    <tr style=\"text-align: right;\">\n",
       "      <th></th>\n",
       "      <th>employee_id</th>\n",
       "      <th>department</th>\n",
       "      <th>region</th>\n",
       "      <th>education</th>\n",
       "      <th>gender</th>\n",
       "      <th>recruitment_channel</th>\n",
       "      <th>no_of_trainings</th>\n",
       "      <th>age</th>\n",
       "      <th>previous_year_rating</th>\n",
       "      <th>length_of_service</th>\n",
       "      <th>KPIs_met_more_than_80</th>\n",
       "      <th>awards_won</th>\n",
       "      <th>avg_training_score</th>\n",
       "    </tr>\n",
       "  </thead>\n",
       "  <tbody>\n",
       "    <tr>\n",
       "      <th>1</th>\n",
       "      <td>74430</td>\n",
       "      <td>HR</td>\n",
       "      <td>region_4</td>\n",
       "      <td>Bachelors</td>\n",
       "      <td>f</td>\n",
       "      <td>other</td>\n",
       "      <td>1</td>\n",
       "      <td>31</td>\n",
       "      <td>3</td>\n",
       "      <td>5</td>\n",
       "      <td>0</td>\n",
       "      <td>0</td>\n",
       "      <td>51</td>\n",
       "    </tr>\n",
       "    <tr>\n",
       "      <th>2</th>\n",
       "      <td>72255</td>\n",
       "      <td>Sales &amp; Marketing</td>\n",
       "      <td>region_13</td>\n",
       "      <td>Bachelors</td>\n",
       "      <td>m</td>\n",
       "      <td>other</td>\n",
       "      <td>1</td>\n",
       "      <td>31</td>\n",
       "      <td>1</td>\n",
       "      <td>4</td>\n",
       "      <td>0</td>\n",
       "      <td>0</td>\n",
       "      <td>47</td>\n",
       "    </tr>\n",
       "    <tr>\n",
       "      <th>3</th>\n",
       "      <td>38562</td>\n",
       "      <td>Procurement</td>\n",
       "      <td>region_2</td>\n",
       "      <td>Bachelors</td>\n",
       "      <td>f</td>\n",
       "      <td>other</td>\n",
       "      <td>3</td>\n",
       "      <td>31</td>\n",
       "      <td>2</td>\n",
       "      <td>9</td>\n",
       "      <td>0</td>\n",
       "      <td>0</td>\n",
       "      <td>65</td>\n",
       "    </tr>\n",
       "    <tr>\n",
       "      <th>4</th>\n",
       "      <td>64486</td>\n",
       "      <td>Finance</td>\n",
       "      <td>region_29</td>\n",
       "      <td>Bachelors</td>\n",
       "      <td>m</td>\n",
       "      <td>sourcing</td>\n",
       "      <td>1</td>\n",
       "      <td>30</td>\n",
       "      <td>4</td>\n",
       "      <td>7</td>\n",
       "      <td>0</td>\n",
       "      <td>0</td>\n",
       "      <td>61</td>\n",
       "    </tr>\n",
       "    <tr>\n",
       "      <th>5</th>\n",
       "      <td>46232</td>\n",
       "      <td>Procurement</td>\n",
       "      <td>region_7</td>\n",
       "      <td>Bachelors</td>\n",
       "      <td>m</td>\n",
       "      <td>sourcing</td>\n",
       "      <td>1</td>\n",
       "      <td>36</td>\n",
       "      <td>3</td>\n",
       "      <td>2</td>\n",
       "      <td>0</td>\n",
       "      <td>0</td>\n",
       "      <td>68</td>\n",
       "    </tr>\n",
       "  </tbody>\n",
       "</table>\n",
       "</div>"
      ],
      "text/plain": [
       "   employee_id         department     region  education gender  \\\n",
       "1        74430                 HR   region_4  Bachelors      f   \n",
       "2        72255  Sales & Marketing  region_13  Bachelors      m   \n",
       "3        38562        Procurement   region_2  Bachelors      f   \n",
       "4        64486            Finance  region_29  Bachelors      m   \n",
       "5        46232        Procurement   region_7  Bachelors      m   \n",
       "\n",
       "  recruitment_channel  no_of_trainings  age  previous_year_rating  \\\n",
       "1               other                1   31                     3   \n",
       "2               other                1   31                     1   \n",
       "3               other                3   31                     2   \n",
       "4            sourcing                1   30                     4   \n",
       "5            sourcing                1   36                     3   \n",
       "\n",
       "   length_of_service  KPIs_met_more_than_80  awards_won  avg_training_score  \n",
       "1                  5                      0           0                  51  \n",
       "2                  4                      0           0                  47  \n",
       "3                  9                      0           0                  65  \n",
       "4                  7                      0           0                  61  \n",
       "5                  2                      0           0                  68  "
      ]
     },
     "execution_count": 17,
     "metadata": {},
     "output_type": "execute_result"
    }
   ],
   "source": [
    "data.head()"
   ]
  },
  {
   "cell_type": "code",
   "execution_count": 18,
   "id": "4ca301ea",
   "metadata": {},
   "outputs": [
    {
     "data": {
      "text/plain": [
       "1"
      ]
     },
     "execution_count": 18,
     "metadata": {},
     "output_type": "execute_result"
    }
   ],
   "source": [
    "data['employee_id'].duplicated().sum()"
   ]
  },
  {
   "cell_type": "code",
   "execution_count": 19,
   "id": "2c11d645",
   "metadata": {},
   "outputs": [
    {
     "name": "stderr",
     "output_type": "stream",
     "text": [
      "C:\\Users\\Its Nomy\\AppData\\Local\\Temp\\ipykernel_11928\\1437722944.py:1: SettingWithCopyWarning: \n",
      "A value is trying to be set on a copy of a slice from a DataFrame.\n",
      "Try using .loc[row_indexer,col_indexer] = value instead\n",
      "\n",
      "See the caveats in the documentation: https://pandas.pydata.org/pandas-docs/stable/user_guide/indexing.html#returning-a-view-versus-a-copy\n",
      "  data['employee_id'] = data['employee_id'].drop_duplicates()\n"
     ]
    }
   ],
   "source": [
    "data['employee_id'] = data['employee_id'].drop_duplicates()"
   ]
  },
  {
   "cell_type": "code",
   "execution_count": 20,
   "id": "bb8cc73f",
   "metadata": {},
   "outputs": [
    {
     "data": {
      "text/plain": [
       "0"
      ]
     },
     "execution_count": 20,
     "metadata": {},
     "output_type": "execute_result"
    }
   ],
   "source": [
    "data['employee_id'].duplicated().sum()"
   ]
  },
  {
   "cell_type": "code",
   "execution_count": 56,
   "id": "a6572987",
   "metadata": {},
   "outputs": [
    {
     "name": "stdout",
     "output_type": "stream",
     "text": [
      "<class 'pandas.core.frame.DataFrame'>\n",
      "Int64Index: 15422 entries, 1 to 17416\n",
      "Data columns (total 13 columns):\n",
      " #   Column                 Non-Null Count  Dtype  \n",
      "---  ------                 --------------  -----  \n",
      " 0   employee_id            15421 non-null  float64\n",
      " 1   department             15422 non-null  object \n",
      " 2   region                 15422 non-null  object \n",
      " 3   education              15422 non-null  object \n",
      " 4   gender                 15422 non-null  object \n",
      " 5   recruitment_channel    15422 non-null  object \n",
      " 6   no_of_trainings        15422 non-null  int64  \n",
      " 7   age                    15422 non-null  int64  \n",
      " 8   previous_year_rating   15422 non-null  int32  \n",
      " 9   length_of_service      15422 non-null  int64  \n",
      " 10  KPIs_met_more_than_80  15422 non-null  int64  \n",
      " 11  awards_won             15422 non-null  int64  \n",
      " 12  avg_training_score     15422 non-null  int64  \n",
      "dtypes: float64(1), int32(1), int64(6), object(5)\n",
      "memory usage: 1.6+ MB\n"
     ]
    }
   ],
   "source": [
    "data.info()"
   ]
  },
  {
   "cell_type": "code",
   "execution_count": 21,
   "id": "edc6b37c",
   "metadata": {},
   "outputs": [
    {
     "data": {
      "text/plain": [
       "employee_id              1\n",
       "department               0\n",
       "region                   0\n",
       "education                0\n",
       "gender                   0\n",
       "recruitment_channel      0\n",
       "no_of_trainings          0\n",
       "age                      0\n",
       "previous_year_rating     0\n",
       "length_of_service        0\n",
       "KPIs_met_more_than_80    0\n",
       "awards_won               0\n",
       "avg_training_score       0\n",
       "dtype: int64"
      ]
     },
     "execution_count": 21,
     "metadata": {},
     "output_type": "execute_result"
    }
   ],
   "source": [
    "data.isnull().sum()"
   ]
  },
  {
   "cell_type": "code",
   "execution_count": 90,
   "id": "48bc2c30",
   "metadata": {},
   "outputs": [],
   "source": [
    "data = data.dropna()"
   ]
  },
  {
   "cell_type": "code",
   "execution_count": 91,
   "id": "8187e6f7",
   "metadata": {},
   "outputs": [
    {
     "data": {
      "text/plain": [
       "employee_id              0\n",
       "department               0\n",
       "region                   0\n",
       "education                0\n",
       "gender                   0\n",
       "recruitment_channel      0\n",
       "no_of_trainings          0\n",
       "age                      0\n",
       "previous_year_rating     0\n",
       "length_of_service        0\n",
       "KPIs_met_more_than_80    0\n",
       "awards_won               0\n",
       "avg_training_score       0\n",
       "dtype: int64"
      ]
     },
     "execution_count": 91,
     "metadata": {},
     "output_type": "execute_result"
    }
   ],
   "source": [
    "data.isnull().sum()"
   ]
  },
  {
   "cell_type": "markdown",
   "id": "e8d4bc0a",
   "metadata": {},
   "source": [
    "## Export the cleaned dataset as a .csv file: prefer UTF-8 encoding."
   ]
  },
  {
   "cell_type": "code",
   "execution_count": 87,
   "id": "9313b610",
   "metadata": {},
   "outputs": [],
   "source": [
    "data.to_csv('cleaned_data.csv', encoding='utf-8', index=False)"
   ]
  },
  {
   "cell_type": "code",
   "execution_count": null,
   "id": "93abcd9b",
   "metadata": {},
   "outputs": [],
   "source": []
  }
 ],
 "metadata": {
  "kernelspec": {
   "display_name": "Python 3 (ipykernel)",
   "language": "python",
   "name": "python3"
  },
  "language_info": {
   "codemirror_mode": {
    "name": "ipython",
    "version": 3
   },
   "file_extension": ".py",
   "mimetype": "text/x-python",
   "name": "python",
   "nbconvert_exporter": "python",
   "pygments_lexer": "ipython3",
   "version": "3.9.13"
  }
 },
 "nbformat": 4,
 "nbformat_minor": 5
}
